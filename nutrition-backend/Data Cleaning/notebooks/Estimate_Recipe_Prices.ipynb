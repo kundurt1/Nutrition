{
 "cells": [
  {
   "cell_type": "code",
   "execution_count": 12,
   "id": "aa70189f",
   "metadata": {},
   "outputs": [],
   "source": [
    "# Step 1: Import libraries\n",
    "import pandas as pd\n",
    "import requests\n",
    "import ast"
   ]
  },
  {
   "cell_type": "code",
   "execution_count": 14,
   "id": "e555be94",
   "metadata": {},
   "outputs": [],
   "source": [
    "# Step 2: Load and clean the data\n",
    "df = pd.read_csv('recipe_subset_raw.csv')\n",
    "\n",
    "# Standardize column names\n",
    "df.columns = df.columns.str.strip().str.lower().str.replace(' ', '_')\n",
    "\n",
    "# Convert stringified lists to actual lists\n",
    "for col in ['ingredients', 'directions', 'ner']:\n",
    "    df[col] = df[col].apply(lambda x: ast.literal_eval(x) if isinstance(x, str) and x.startswith('[') else x)\n",
    "\n",
    "# Drop rows with missing or invalid ingredients\n",
    "df = df[df['ingredients'].apply(lambda x: isinstance(x, list) and len(x) > 0)]\n",
    "\n",
    "# Use only a subset to avoid hitting API limits\n",
    "subset = df.iloc[:100].copy()"
   ]
  },
  {
   "cell_type": "code",
   "execution_count": 16,
   "id": "4f09a536",
   "metadata": {},
   "outputs": [],
   "source": [
    "# Step 3: Define the cost estimation function\n",
    "def estimate_recipe_cost(ingredients, servings=1, api_key=\"dc03366924mshc17da3ce290e748p18b0bfjsn5ca7b8892a81\"):\n",
    "    url = \"https://spoonacular-recipe-food-nutrition-v1.p.rapidapi.com/recipes/parseIngredients\"\n",
    "\n",
    "    headers = {\n",
    "        \"x-rapidapi-key\": api_key,\n",
    "        \"x-rapidapi-host\": \"spoonacular-recipe-food-nutrition-v1.p.rapidapi.com\",\n",
    "        \"content-type\": \"application/x-www-form-urlencoded\"\n",
    "    }\n",
    "\n",
    "    payload = {\n",
    "        \"ingredientList\": \"\\n\".join(ingredients),\n",
    "        \"servings\": servings\n",
    "    }\n",
    "\n",
    "    response = requests.post(url, data=payload, headers=headers)\n",
    "\n",
    "    if response.status_code != 200:\n",
    "        print(f\"Error {response.status_code}: {response.text}\")\n",
    "        return None, []\n",
    "\n",
    "    results = response.json()\n",
    "\n",
    "    total_cost = 0.0\n",
    "    breakdown = []\n",
    "\n",
    "    for item in results:\n",
    "        name = item['name']\n",
    "        cost_info = item.get('estimatedCost', {})\n",
    "        cost_cents = cost_info.get('value', 0.0)\n",
    "        cost_usd = cost_cents / 100.0\n",
    "        total_cost += cost_usd\n",
    "        breakdown.append((name, cost_usd, \"USD\"))\n",
    "\n",
    "    return total_cost, breakdown"
   ]
  },
  {
   "cell_type": "code",
   "execution_count": 19,
   "id": "be944308",
   "metadata": {},
   "outputs": [],
   "source": [
    "# Step 4: Wrapper function to apply to DataFrame\n",
    "def get_price_wrapper(ingredient_list):\n",
    "    try:\n",
    "        total, _ = estimate_recipe_cost(ingredient_list, servings=1, api_key=\"dc03366924mshc17da3ce290e748p18b0bfjsn5ca7b8892a81\")\n",
    "        return round(total, 2)\n",
    "    except:\n",
    "        return None\n",
    "\n",
    "# Apply to subset\n",
    "subset['estimated_price_usd'] = subset['ingredients'].apply(get_price_wrapper)"
   ]
  },
  {
   "cell_type": "code",
   "execution_count": 20,
   "id": "77bf419c",
   "metadata": {},
   "outputs": [
    {
     "name": "stdout",
     "output_type": "stream",
     "text": [
      "Saved to priced_recipe_subset.csv\n"
     ]
    }
   ],
   "source": [
    "# Step 5: Save the priced subset to CSV\n",
    "subset.to_csv('priced_recipe_subset.csv', index=False)\n",
    "print(\"Saved to priced_recipe_subset.csv\")"
   ]
  },
  {
   "cell_type": "code",
   "execution_count": null,
   "id": "43efcccc-0404-4cc9-a92b-db9a2fee08f6",
   "metadata": {},
   "outputs": [],
   "source": []
  }
 ],
 "metadata": {
  "kernelspec": {
   "display_name": "Python [conda env:base] *",
   "language": "python",
   "name": "conda-base-py"
  },
  "language_info": {
   "codemirror_mode": {
    "name": "ipython",
    "version": 3
   },
   "file_extension": ".py",
   "mimetype": "text/x-python",
   "name": "python",
   "nbconvert_exporter": "python",
   "pygments_lexer": "ipython3",
   "version": "3.12.7"
  }
 },
 "nbformat": 4,
 "nbformat_minor": 5
}
